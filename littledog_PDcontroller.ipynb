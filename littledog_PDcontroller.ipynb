{
 "cells": [
  {
   "cell_type": "code",
   "execution_count": 1,
   "metadata": {
    "collapsed": true
   },
   "outputs": [],
   "source": [
    "from pydrake.common import FindResourceOrThrow\n",
    "from pydrake.geometry import (ConnectDrakeVisualizer, SceneGraph)\n",
    "from pydrake.lcm import DrakeLcm\n",
    "from pydrake.multibody.rigid_body_tree import (RigidBodyTree, AddModelInstancesFromSdfFile,\n",
    "                                               FloatingBaseType,AddModelInstanceFromUrdfFile,AddFlatTerrainToWorld, RigidBodyFrame,AddModelInstanceFromUrdfStringSearchingInRosPackages)\n",
    "from pydrake.multibody.multibody_tree import UniformGravityFieldElement, MultibodyTree,BodyIndex\n",
    "from pydrake.multibody.multibody_tree.multibody_plant import MultibodyPlant\n",
    "from pydrake.multibody.multibody_tree.parsing import AddModelFromSdfFile \n",
    "from pydrake.systems.framework import DiagramBuilder\n",
    "from pydrake.systems.analysis import Simulator\n",
    "from pydrake.common import (set_assertion_failure_to_throw_exception)\n",
    "from pydrake.systems.controllers import (RbtInverseDynamicsController)\n",
    "from pydrake.systems.primitives import (ConstantVectorSource, SignalLogger, TrajectorySource)\n",
    "from pydrake.systems.meshcat_visualizer import MeshcatVisualizer\n",
    "from pydrake.multibody.parsers import PackageMap\n",
    "from pydrake.systems.framework import LeafSystem, PortDataType,BasicVector\n",
    "\n",
    "from pydrake.multibody.rigid_body_plant import DrakeVisualizer,RigidBodyPlant\n",
    "import numpy as np\n",
    "import matplotlib.pyplot as plt\n",
    " \n",
    "import os\n",
    "import pydrake\n",
    "\n",
    "from pydrake.systems.all import LcmSubscriberSystem, LcmPublisherSystem,AbstractValue\n",
    "from pydrake.multibody.rigid_body_plant import ContactResults \n",
    "from pydrake.all import PySerializer\n",
    "#from pydrake.all import  KinematicsResults\n",
    "\n",
    "from systems.robot_coomand_to_rigidbody_converter import RobotCommandToRigidBodyPlantConverter\n",
    "from systems.robot_state_encoder import RobotStateEncoder"
   ]
  },
  {
   "cell_type": "code",
   "execution_count": 2,
   "metadata": {
    "collapsed": true
   },
   "outputs": [],
   "source": [
    "from lcmt import *\n",
    "model_path = os.path.join(os.getcwd(), 'Model/LittleDog.urdf')\n",
    "\n",
    "dt = 0\n",
    "\n",
    "lcm = DrakeLcm()\n",
    "builder = DiagramBuilder()\n"
   ]
  },
  {
   "cell_type": "code",
   "execution_count": null,
   "metadata": {
    "collapsed": true
   },
   "outputs": [],
   "source": []
  },
  {
   "cell_type": "code",
   "execution_count": 3,
   "metadata": {},
   "outputs": [
    {
     "data": {
      "text/plain": [
       "{u'LittleDog': 0}"
      ]
     },
     "execution_count": 3,
     "metadata": {},
     "output_type": "execute_result"
    }
   ],
   "source": [
    "# Build up your Robot World\n",
    "rb_tree = RigidBodyTree()\n",
    "world_frame = RigidBodyFrame(\"world_frame\", rb_tree.world(), [0, 0, 0], [0, 0, 0])\n",
    "AddFlatTerrainToWorld(rb_tree, 1000, 10)\n",
    "robot_frame = RigidBodyFrame(\"robot_frame\", rb_tree.world(), [0, 0, 0.5], [0, 0, 0])\n",
    "\n",
    "# insert a robot from urdf files\n",
    "pmap = PackageMap()\n",
    "pmap.PopulateFromFolder(os.path.dirname(model_path))\n",
    "AddModelInstanceFromUrdfStringSearchingInRosPackages(\n",
    "        open(model_path, 'r').read(),\n",
    "        pmap,\n",
    "        os.path.dirname(model_path),\n",
    "        FloatingBaseType.kRollPitchYaw,\n",
    "        robot_frame,\n",
    "        rb_tree)"
   ]
  },
  {
   "cell_type": "code",
   "execution_count": 4,
   "metadata": {},
   "outputs": [
    {
     "data": {
      "text/plain": [
       "18"
      ]
     },
     "execution_count": 4,
     "metadata": {},
     "output_type": "execute_result"
    }
   ],
   "source": [
    "rb_tree.get_num_positions()"
   ]
  },
  {
   "cell_type": "code",
   "execution_count": 5,
   "metadata": {},
   "outputs": [
    {
     "name": "stdout",
     "output_type": "stream",
     "text": [
      "weld_x\n",
      "weld_y\n",
      "weld_z\n",
      "weld_roll\n",
      "weld_pitch\n",
      "weld_yaw\n",
      "front_left_hip_roll\n",
      "front_left_hip_pitch\n",
      "front_left_knee\n",
      "front_right_hip_roll\n",
      "front_right_hip_pitch\n",
      "front_right_knee\n",
      "back_left_hip_roll\n",
      "back_left_hip_pitch\n",
      "back_left_knee\n",
      "back_right_hip_roll\n",
      "back_right_hip_pitch\n",
      "back_right_knee\n"
     ]
    }
   ],
   "source": [
    "for i in range(18):\n",
    "    print rb_tree.get_position_name(i)"
   ]
  },
  {
   "cell_type": "code",
   "execution_count": 6,
   "metadata": {
    "collapsed": true
   },
   "outputs": [],
   "source": [
    "def joints_PID_params(rbtree):\n",
    "    num_joints = rb_tree.get_num_actuators()\n",
    "    \n",
    "    kp = np.ones(num_joints)*100\n",
    "    ki = np.zeros(num_joints)\n",
    "    kd = 2*np.sqrt(kp)\n",
    "                  \n",
    "    assert kp.shape[0] == num_joints\n",
    "    \n",
    "    return kp,ki,kd"
   ]
  },
  {
   "cell_type": "code",
   "execution_count": 7,
   "metadata": {
    "collapsed": true
   },
   "outputs": [],
   "source": [
    "\n",
    "class RobotPDAndFeedForwardController(LeafSystem):\n",
    "\n",
    "    def __init__(self, rbtree, kp, ki, kd):\n",
    "        LeafSystem.__init__(self)\n",
    "        self.rb_tree = rbtree\n",
    "        self.num_controlled_q_ = self.rb_tree.get_num_actuators()\n",
    "\n",
    "        self.kp = kp\n",
    "        self.ki = ki\n",
    "        self.kd = kd\n",
    "\n",
    "        self.robot_state_port_index = self._DeclareAbstractInputPort('robot_state_port',\n",
    "                                                                     AbstractValue.Make(\n",
    "                                                                         robot_state_t)).get_index()\n",
    "\n",
    "        # self.state_ref_port_index = self._DeclareInputPort('State_Ref_Port', PortDataType.kVectorValued,\n",
    "        #                                                    self.num_controlled_q_ * 2).get_index()\n",
    "\n",
    "        self.robot_command_port_index = self._DeclareAbstractOutputPort('robot_command_port',\n",
    "                                                                        self._Allocator,\n",
    "                                                                        self._OutputCommand,\n",
    "                                                                        ).get_index()\n",
    "    def _Allocator(self):\n",
    "        return AbstractValue.Make(littledog_command_t)\n",
    "\n",
    "    def _OutputCommand(self, context, output):\n",
    "        ## OutputDesiredEffort is not equal to output command\n",
    "        msg = self.EvalAbstractInput(context, self.robot_state_port_index).get_value()\n",
    "\n",
    "        #print('t = {}  joint_pos = {}'.format(msg.timestamp, msg.joint_position))\n",
    "\n",
    "        command_msg = littledog_command_t()\n",
    "        command_msg.timestamp = context.get_time() * 1e3  # milliseconds\n",
    "        command_msg.num_joints = self.num_controlled_q_\n",
    "        command_msg.joint_command = np.zeros(self.num_controlled_q_)\n",
    "        # if msg.num_joints == self.num_controlled_q_:\n",
    "        #     q = np.array(msg.joint_position)\n",
    "        #     qv = np.array(msg.joint_velocity)\n",
    "        #     print('t = {}  joint_pos = {}'.format(msg.timestamp, msg.joint_position))\n",
    "        #\n",
    "        #     #state_d = self.EvalVectorInput(context, self.state_ref_port_index).get_value()\n",
    "        #\n",
    "        #     state_d = np.zeros(self.num_controlled_q_ * 2)\n",
    "        #     controlled_state_diff = state_d - np.concatenate((q, qv), axis=0)\n",
    "        #     #state_block = context.get_continuous_state_vector().get_value()\n",
    "        #\n",
    "        #    # print(state_block)\n",
    "        #     command_msg.joint_command = self.kp * (controlled_state_diff[:self.num_controlled_q_]) + self.kd * (controlled_state_diff[self.num_controlled_q_:]) #+ self.ki * (state_block)\n",
    "        # else:\n",
    "        #     command_msg.joint_command = np.zeros(self.num_controlled_q_)\n",
    "        output.set_value(command_msg)\n",
    "\n",
    "    # Port Declaration\n",
    "    def robot_state_input_port(self):\n",
    "        return self.get_input_port(self.robot_state_port_index)\n",
    "\n",
    "    def state_ref_input_port(self):\n",
    "        return self.get_input_port(self.state_ref_port_index)\n",
    "\n",
    "    def robot_command_output_port(self):\n",
    "        return self.get_output_port(self.robot_command_port_index)\n"
   ]
  },
  {
   "cell_type": "code",
   "execution_count": 8,
   "metadata": {
    "collapsed": true
   },
   "outputs": [],
   "source": [
    "# Robot state Subscriber\n",
    "robot_state_subscriber = builder.AddSystem(LcmSubscriberSystem.Make('EST_ROBOT_STATE', robot_state_t, lcm))\n",
    "robot_state_subscriber.set_name('robot_state_subscriber')\n",
    " \n",
    "# Robot command Publisher\n",
    "robot_state_publisher = builder.AddSystem(LcmPublisherSystem.Make('ROBOT_COMMAND', littledog_command_t, lcm))\n",
    "robot_state_publisher.set_name('robot_command_publisher')\n",
    "robot_state_publisher.set_publish_period(1e-3)\n",
    "                          "
   ]
  },
  {
   "cell_type": "code",
   "execution_count": 9,
   "metadata": {
    "collapsed": true
   },
   "outputs": [],
   "source": [
    "kp,ki,kd = joints_PID_params(rb_tree)\n",
    "controller = builder.AddSystem(RobotPDAndFeedForwardController(rb_tree,kp,ki,kd))"
   ]
  },
  {
   "cell_type": "code",
   "execution_count": 10,
   "metadata": {
    "collapsed": true
   },
   "outputs": [],
   "source": [
    "builder.Connect(robot_state_subscriber.get_output_port(0),\n",
    "               controller.robot_state_input_port())\n",
    "builder.Connect(controller.robot_command_output_port(),\n",
    "               robot_state_publisher.get_input_port(0))\n",
    "\n"
   ]
  },
  {
   "cell_type": "code",
   "execution_count": 11,
   "metadata": {
    "collapsed": true
   },
   "outputs": [],
   "source": [
    "diagram = builder.Build()\n",
    "\n",
    "diagram_context = diagram.CreateDefaultContext()\n"
   ]
  },
  {
   "cell_type": "code",
   "execution_count": 12,
   "metadata": {
    "collapsed": true
   },
   "outputs": [],
   "source": [
    "# controller_context = diagram.GetMutableSubsystemContext(controller, diagram_context)\n",
    "# controller_context.FixInputPort(\n",
    "#     controller.state_ref_port_index, np.zeros(controller.num_controlled_q_*2))"
   ]
  },
  {
   "cell_type": "code",
   "execution_count": 13,
   "metadata": {
    "collapsed": true
   },
   "outputs": [],
   "source": [
    "# simulator = Simulator(diagram, diagram_context)\n",
    "# simulator.set_publish_every_time_step(False)\n",
    "# simulation_time = 10"
   ]
  },
  {
   "cell_type": "code",
   "execution_count": 14,
   "metadata": {
    "collapsed": true
   },
   "outputs": [],
   "source": [
    "# lcm.StartReceiveThread()\n",
    "# simulator.StepTo(simulation_time)\n",
    "# lcm.StopReceiveThread()"
   ]
  },
  {
   "cell_type": "code",
   "execution_count": 12,
   "metadata": {},
   "outputs": [
    {
     "ename": "ImportError",
     "evalue": "cannot import name LcmDrivenLoop",
     "output_type": "error",
     "traceback": [
      "\u001b[0;31m\u001b[0m",
      "\u001b[0;31mImportError\u001b[0mTraceback (most recent call last)",
      "\u001b[0;32m<ipython-input-12-8a6b27cf9ad5>\u001b[0m in \u001b[0;36m<module>\u001b[0;34m()\u001b[0m\n\u001b[0;32m----> 1\u001b[0;31m \u001b[0;32mfrom\u001b[0m \u001b[0mpydrake\u001b[0m\u001b[0;34m.\u001b[0m\u001b[0msystems\u001b[0m\u001b[0;34m.\u001b[0m\u001b[0mlcm\u001b[0m \u001b[0;32mimport\u001b[0m \u001b[0mLcmDrivenLoop\u001b[0m\u001b[0;34m\u001b[0m\u001b[0m\n\u001b[0m\u001b[1;32m      2\u001b[0m \u001b[0;32mfrom\u001b[0m \u001b[0mpydrake\u001b[0m\u001b[0;34m.\u001b[0m\u001b[0msystems\u001b[0m\u001b[0;34m.\u001b[0m\u001b[0mlcm\u001b[0m \u001b[0;32mimport\u001b[0m \u001b[0mLcmMessageToTimeInterface\u001b[0m\u001b[0;34m\u001b[0m\u001b[0m\n",
      "\u001b[0;31mImportError\u001b[0m: cannot import name LcmDrivenLoop"
     ]
    }
   ],
   "source": [
    " "
   ]
  },
  {
   "cell_type": "code",
   "execution_count": 14,
   "metadata": {
    "collapsed": true
   },
   "outputs": [],
   "source": [
    "robot_state_subscriber.WaitForMessage(robot_state_subscriber.GetMessageCount(diagram_context))\n",
    "robot_state_subscriber.C\n"
   ]
  },
  {
   "cell_type": "code",
   "execution_count": 25,
   "metadata": {},
   "outputs": [
    {
     "ename": "RuntimeError",
     "evalue": "C++ object must be owned by pybind11 when attempting to release to C++",
     "output_type": "error",
     "traceback": [
      "\u001b[0;31m\u001b[0m",
      "\u001b[0;31mRuntimeError\u001b[0mTraceback (most recent call last)",
      "\u001b[0;32m<ipython-input-25-2f921cbe0a53>\u001b[0m in \u001b[0;36m<module>\u001b[0;34m()\u001b[0m\n\u001b[0;32m----> 1\u001b[0;31m \u001b[0mloop\u001b[0m \u001b[0;34m=\u001b[0m \u001b[0mLcmDrivenLoop\u001b[0m\u001b[0;34m(\u001b[0m\u001b[0mdiagram\u001b[0m\u001b[0;34m,\u001b[0m \u001b[0mrobot_state_subscriber\u001b[0m\u001b[0;34m,\u001b[0m \u001b[0mdiagram_context\u001b[0m\u001b[0;34m,\u001b[0m \u001b[0mlcm\u001b[0m\u001b[0;34m,\u001b[0m \u001b[0ma\u001b[0m\u001b[0;34m)\u001b[0m\u001b[0;34m\u001b[0m\u001b[0m\n\u001b[0m",
      "\u001b[0;31mRuntimeError\u001b[0m: C++ object must be owned by pybind11 when attempting to release to C++"
     ]
    }
   ],
   "source": [
    "loop = LcmDrivenLoop(diagram, robot_state_subscriber, diagram_context, lcm, a)"
   ]
  },
  {
   "cell_type": "code",
   "execution_count": 27,
   "metadata": {},
   "outputs": [
    {
     "data": {
      "text/plain": [
       "<__main__.LcmMessageToTimeInterface at 0x7f407005a7a0>"
      ]
     },
     "execution_count": 27,
     "metadata": {},
     "output_type": "execute_result"
    }
   ],
   "source": [
    "a"
   ]
  },
  {
   "cell_type": "code",
   "execution_count": 21,
   "metadata": {
    "collapsed": true
   },
   "outputs": [],
   "source": [
    "class UtimeMessageToSeconds(LcmMessageToTimeInterface):\n",
    "    def __init__(self):\n",
    "        LcmMessageToTimeInterface()\n",
    "        \n",
    "    def GetTimeInSeconds(self, abstract_value):\n",
    "        msg = abstract_value.GetValue()\n",
    "        return (msg.timestamp)/1e6"
   ]
  },
  {
   "cell_type": "code",
   "execution_count": 22,
   "metadata": {
    "collapsed": true
   },
   "outputs": [],
   "source": [
    "a  = UtimeMessageToSeconds()"
   ]
  },
  {
   "cell_type": "code",
   "execution_count": 24,
   "metadata": {},
   "outputs": [
    {
     "ename": "TypeError",
     "evalue": "GetTimeInSeconds() takes exactly 2 arguments (1 given)",
     "output_type": "error",
     "traceback": [
      "\u001b[0;31m\u001b[0m",
      "\u001b[0;31mTypeError\u001b[0mTraceback (most recent call last)",
      "\u001b[0;32m<ipython-input-24-6ab6839eb0ab>\u001b[0m in \u001b[0;36m<module>\u001b[0;34m()\u001b[0m\n\u001b[0;32m----> 1\u001b[0;31m \u001b[0ma\u001b[0m\u001b[0;34m.\u001b[0m\u001b[0mGetTimeInSeconds\u001b[0m\u001b[0;34m(\u001b[0m\u001b[0;34m)\u001b[0m\u001b[0;34m\u001b[0m\u001b[0m\n\u001b[0m",
      "\u001b[0;31mTypeError\u001b[0m: GetTimeInSeconds() takes exactly 2 arguments (1 given)"
     ]
    }
   ],
   "source": [
    " "
   ]
  },
  {
   "cell_type": "code",
   "execution_count": null,
   "metadata": {
    "collapsed": true
   },
   "outputs": [],
   "source": [
    "while(True):\n",
    "    WaitForMessage()\n",
    "    msg_time = Time_coverter()\n",
    "    if (msg_time > stop_time):\n",
    "        break\n",
    "    Simulator.StepTo(msg_time)"
   ]
  }
 ],
 "metadata": {
  "kernelspec": {
   "display_name": "Py27sys",
   "language": "python",
   "name": "python2"
  },
  "language_info": {
   "codemirror_mode": {
    "name": "ipython",
    "version": 2
   },
   "file_extension": ".py",
   "mimetype": "text/x-python",
   "name": "python",
   "nbconvert_exporter": "python",
   "pygments_lexer": "ipython2",
   "version": "2.7.12"
  }
 },
 "nbformat": 4,
 "nbformat_minor": 2
}
