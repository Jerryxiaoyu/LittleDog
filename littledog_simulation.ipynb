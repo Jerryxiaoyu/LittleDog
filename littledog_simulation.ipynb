{
 "cells": [
  {
   "cell_type": "code",
   "execution_count": 1,
   "metadata": {
    "collapsed": true
   },
   "outputs": [],
   "source": [
    "from pydrake.common import FindResourceOrThrow\n",
    "from pydrake.geometry import (ConnectDrakeVisualizer, SceneGraph)\n",
    "from pydrake.lcm import DrakeLcm\n",
    "from pydrake.multibody.rigid_body_tree import (RigidBodyTree, AddModelInstancesFromSdfFile,\n",
    "                                               FloatingBaseType,AddModelInstanceFromUrdfFile,AddFlatTerrainToWorld, RigidBodyFrame,AddModelInstanceFromUrdfStringSearchingInRosPackages)\n",
    "from pydrake.multibody.multibody_tree import UniformGravityFieldElement, MultibodyTree,BodyIndex\n",
    "from pydrake.multibody.multibody_tree.multibody_plant import MultibodyPlant\n",
    "from pydrake.multibody.multibody_tree.parsing import AddModelFromSdfFile \n",
    "from pydrake.systems.framework import DiagramBuilder\n",
    "from pydrake.systems.analysis import Simulator\n",
    "from pydrake.common import (set_assertion_failure_to_throw_exception)\n",
    "from pydrake.systems.controllers import (RbtInverseDynamicsController)\n",
    "from pydrake.systems.primitives import (ConstantVectorSource, SignalLogger, TrajectorySource)\n",
    "from pydrake.systems.meshcat_visualizer import MeshcatVisualizer\n",
    "from pydrake.multibody.parsers import PackageMap\n",
    "from pydrake.systems.framework import LeafSystem, PortDataType,BasicVector\n",
    "\n",
    "from pydrake.multibody.rigid_body_plant import DrakeVisualizer,RigidBodyPlant\n",
    "import numpy as np\n",
    "import matplotlib.pyplot as plt\n",
    " \n",
    "import os\n",
    "import pydrake\n",
    "\n",
    "from pydrake.systems.all import LcmSubscriberSystem, LcmPublisherSystem,AbstractValue\n",
    "from pydrake.multibody.rigid_body_plant import ContactResults \n",
    "from pydrake.all import PySerializer\n",
    "#from pydrake.all import  KinematicsResults"
   ]
  },
  {
   "cell_type": "code",
   "execution_count": 2,
   "metadata": {
    "collapsed": true
   },
   "outputs": [],
   "source": [
    "from lcmt import *\n",
    "model_path = os.path.join(os.getcwd(), 'Model/LittleDog.urdf')\n",
    "\n",
    "dt = 1e-3\n",
    "\n",
    "lcm = DrakeLcm()\n",
    "builder = DiagramBuilder()\n",
    "\n"
   ]
  },
  {
   "cell_type": "code",
   "execution_count": 3,
   "metadata": {
    "collapsed": true
   },
   "outputs": [],
   "source": [
    "class RobotCommandToRigidBodyPlantConverter(LeafSystem):\n",
    "    def __init__(self, actuators):\n",
    "        LeafSystem.__init__(self)\n",
    "        self.num_actuators = len(actuators)\n",
    "        \n",
    "        self.robot_command_port_index = self._DeclareAbstractInputPort('robot_command_port', \n",
    "                                                                       AbstractValue.Make(littledog_command_t) ).get_index()\n",
    "        self.desired_effort_port_indices = self._DeclareVectorOutputPort(BasicVector(self.num_actuators),\n",
    "                                                                        self.OutputActuation).get_index()\n",
    " \n",
    "    def OutputActuation(self, context, output):\n",
    "        ## OutputDesiredEffort is not equal to output command\n",
    "        msg = self. EvalAbstractInput(context, self.robot_command_port_index).get_value()      \n",
    "        #msg = self.EvalVectorInput(context, self.robot_command_port_index).get_value()\n",
    "        \n",
    "        # TODO : Considering motor model (motor effort length etc.)\n",
    "        output_command = msg.joint_command\n",
    "        \n",
    "        output.SetFromVector(np.array(output_command))"
   ]
  },
  {
   "cell_type": "code",
   "execution_count": null,
   "metadata": {
    "collapsed": true
   },
   "outputs": [],
   "source": [
    " "
   ]
  },
  {
   "cell_type": "code",
   "execution_count": 4,
   "metadata": {
    "collapsed": true
   },
   "outputs": [],
   "source": [
    "class RobotStateEncoder(LeafSystem):\n",
    "    \"\"\"\n",
    "    RigidBodyPlant.KinematicsResults is not found\n",
    "    \"\"\"\n",
    "    def __init__(self, rb_tree):\n",
    "        LeafSystem.__init__(self)\n",
    "        self.rb_tree = rb_tree\n",
    "        self.num_controlled_q_ = self.rb_tree.get_num_positions()\n",
    "\n",
    "        # Input Port\n",
    "        self.joint_state_results_port_index = self._DeclareInputPort( 'joint_state_results_port', PortDataType.kVectorValued,\n",
    "                                                        self.num_controlled_q_ *2).get_index()\n",
    "    #         self.contact_results_port_index = self._DeclareAbstractInputPort('contact_results_port', \n",
    "    #                                                                        AbstractValue.Make(ContactResults)).get_index()\n",
    "        # Output Port\n",
    "        self.lcm_message_port_index = self._DeclareAbstractOutputPort('state_output_port',\n",
    "                                                                      self.Allocator,\n",
    "                                                                      self.OutputRobotState,\n",
    "                                                                     ).get_index()  \n",
    "    def Allocator(self):\n",
    "        return AbstractValue.Make(robot_state_t)\n",
    "    def OutputRobotState(self, context, output):\n",
    "        #message = robot_state_t\n",
    "#         message.timestamp = context.get_time()*1e6\n",
    "\n",
    "#         #contact_result = EvalAbstractInput(context, contact_results_port_index).get_value()\n",
    "#         joint_state_result = self.EvalVectorInput(context, self.joint_state_results_port_index).get_value()\n",
    "\n",
    "#         message.num_joints = self.num_controlled_q_\n",
    "#         message.joint_positon = joint_state_result[:self.num_controlled_q_]\n",
    "#         message.joint_velocity = joint_state_result[self.num_controlled_q_:]\n",
    "#         print(message.timestamp, message.num_joints, message.joint_positon, message.joint_velocity)\n",
    "#         output.set_value(message)\n",
    "\n",
    "        message = output.get_mutable_value()\n",
    "        message.timestamp = context.get_time()*1e6\n",
    "\n",
    "        #contact_result = EvalAbstractInput(context, contact_results_port_index).get_value()\n",
    "        joint_state_result = self.EvalVectorInput(context, self.joint_state_results_port_index).get_value()\n",
    "\n",
    "        message.num_joints = self.num_controlled_q_\n",
    "        message.joint_positon = joint_state_result[:self.num_controlled_q_]\n",
    "        message.joint_velocity = joint_state_result[self.num_controlled_q_:]\n",
    "        print(message.timestamp, message.num_joints, message.joint_positon, message.joint_velocity)\n",
    "        output.set_value(message)\n",
    "         \n",
    "#         output.timestamp = context.get_time()*1e6\n",
    "\n",
    "#         #contact_result = EvalAbstractInput(context, contact_results_port_index).get_value()\n",
    "#         joint_state_result = self.EvalVectorInput(context, self.joint_state_results_port_index).get_value()\n",
    "\n",
    "#         output.num_joints = self.num_controlled_q_\n",
    "#         output.joint_positon = joint_state_result[:self.num_controlled_q_]\n",
    "#         output.joint_velocity = joint_state_result[self.num_controlled_q_:]\n",
    "#         print(output.timestamp, output.num_joints, output.joint_positon, output.joint_velocity)\n",
    "        #output.set_value(message)\n",
    "    def joint_state_results_port(self):\n",
    "        return self.get_input_port(self.joint_state_results_port_index)\n",
    "    \n",
    "        \n",
    "         "
   ]
  },
  {
   "cell_type": "code",
   "execution_count": null,
   "metadata": {
    "collapsed": true
   },
   "outputs": [],
   "source": []
  },
  {
   "cell_type": "code",
   "execution_count": 5,
   "metadata": {},
   "outputs": [
    {
     "data": {
      "text/plain": [
       "{u'LittleDog': 0}"
      ]
     },
     "execution_count": 5,
     "metadata": {},
     "output_type": "execute_result"
    }
   ],
   "source": [
    "# Build up your Robot World\n",
    "rb_tree = RigidBodyTree()\n",
    "world_frame = RigidBodyFrame(\"world_frame\", rb_tree.world(), [0, 0, 0], [0, 0, 0])\n",
    "AddFlatTerrainToWorld(rb_tree, 1000, 10)\n",
    "robot_frame = RigidBodyFrame(\"robot_frame\", rb_tree.world(), [0, 0, 0.5], [0, 0, 0])\n",
    "\n",
    "# insert a robot from urdf files\n",
    "pmap = PackageMap()\n",
    "pmap.PopulateFromFolder(os.path.dirname(model_path))\n",
    "AddModelInstanceFromUrdfStringSearchingInRosPackages(\n",
    "        open(model_path, 'r').read(),\n",
    "        pmap,\n",
    "        os.path.dirname(model_path),\n",
    "        FloatingBaseType.kRollPitchYaw,\n",
    "        robot_frame,\n",
    "        rb_tree)"
   ]
  },
  {
   "cell_type": "code",
   "execution_count": 6,
   "metadata": {},
   "outputs": [
    {
     "data": {
      "text/plain": [
       "18"
      ]
     },
     "execution_count": 6,
     "metadata": {},
     "output_type": "execute_result"
    }
   ],
   "source": [
    "rb_tree.get_num_positions()"
   ]
  },
  {
   "cell_type": "code",
   "execution_count": null,
   "metadata": {
    "collapsed": true
   },
   "outputs": [],
   "source": []
  },
  {
   "cell_type": "code",
   "execution_count": 7,
   "metadata": {},
   "outputs": [],
   "source": [
    "# RigidBodyPlant \n",
    "plant = builder.AddSystem(RigidBodyPlant(rb_tree, dt))\n",
    "plant.set_name('plant')\n",
    "\n",
    "# Robot command subscriber\n",
    "\n",
    "#robot_command_subscriber = builder.AddSystem(LcmSubscriberSystem('ROBOT_COMMAND', PySerializer(littledog_command_t), lcm))\n",
    "robot_command_subscriber = builder.AddSystem(LcmSubscriberSystem.Make('ROBOT_COMMAND', littledog_command_t, lcm))\n",
    "robot_command_subscriber.set_name('robot_command_subscriber')\n",
    "\n",
    "# Robot command to Plant Converter\n",
    "robot_command_to_rigidbodyplant_converter = builder.AddSystem(RobotCommandToRigidBodyPlantConverter(rb_tree.actuators)) # input argu: rigidbody actuators\n",
    "robot_command_to_rigidbodyplant_converter.set_name('robot_command_to_rigidbodyplant_converter')\n",
    "\n",
    "# Visualizer\n",
    "visualizer_publisher = builder.AddSystem(DrakeVisualizer(rb_tree, lcm ))\n",
    "visualizer_publisher.set_name('visualizer_publisher')\n",
    "visualizer_publisher.set_publish_period(1e-3);\n",
    "\n",
    "# Robot State Encoder\n",
    "robot_state_encoder = builder.AddSystem(RobotStateEncoder(rb_tree)) #force_sensor_info\n",
    "robot_state_encoder.set_name('robot_state_encoder')\n",
    "\n",
    "# Robot State Publisher\n",
    "#robot_state_publisher = builder.AddSystem(LcmPublisherSystem('EST_ROBOT_STATE', PySerializer(robot_state_t), lcm))\n",
    "robot_state_publisher = builder.AddSystem(LcmPublisherSystem.Make('EST_ROBOT_STATE', robot_state_t, lcm))\n",
    "robot_state_publisher.set_name('robot_state_publisher')\n",
    "robot_state_publisher.set_publish_period(1e-3);\n",
    "\n",
    "# Connect everything\n",
    " \n",
    "builder.Connect(robot_command_subscriber.get_output_port(0),\n",
    "                robot_command_to_rigidbodyplant_converter.get_input_port(0))\n",
    "builder.Connect(robot_command_to_rigidbodyplant_converter.get_output_port(0),\n",
    "                plant.get_input_port(0))\n",
    "builder.Connect(plant.state_output_port(),\n",
    "                visualizer_publisher.get_input_port(0))\n",
    "builder.Connect(plant.state_output_port(), #kinematics_results_output_port(0),\n",
    "                robot_state_encoder.joint_state_results_port())\n",
    "builder.Connect(robot_state_encoder.get_output_port(0),\n",
    "                robot_state_publisher.get_input_port(0))\n"
   ]
  },
  {
   "cell_type": "code",
   "execution_count": 8,
   "metadata": {},
   "outputs": [
    {
     "data": {
      "text/plain": [
       "<member 'num_joints' of 'robot_state_t' objects>"
      ]
     },
     "execution_count": 8,
     "metadata": {},
     "output_type": "execute_result"
    }
   ],
   "source": [
    "robot_state_t.num_joints"
   ]
  },
  {
   "cell_type": "code",
   "execution_count": 9,
   "metadata": {
    "collapsed": true
   },
   "outputs": [],
   "source": [
    "diagram = builder.Build()\n"
   ]
  },
  {
   "cell_type": "markdown",
   "metadata": {},
   "source": [
    "position = np.array(msg.position)\n",
    "        velocity = np.array(msg.velocity)\n",
    "        effort = np.array(msg.effort)\n",
    "        k_q_p = np.array(msg.k_q_p)\n",
    "        k_q_i = np.array(msg.k_q_i)\n",
    "        k_q_d = np.array(msg.k_q_d)\n",
    "        k_qd_d = np.array(msg.k_qd_d)\n",
    "        k_f_p = np.array(msg.k_f_p)\n",
    "        ff_qd = np.array(msg.ff_qd)\n",
    "        ff_qd_d = np.array(msg.ff_qd_d)\n",
    "        ff_const = np.array(msg.ff_const)\n",
    "        \n",
    "        output_command = k_q_p *(q_d -q) + k_q_i * (q_d - q) +  \n",
    "                         k_qd_p *(qd_d -qd) + k_f_p * (f_d - f) \n",
    "                         + ff_qd * qd + ff_f_d * fd +ff_const"
   ]
  },
  {
   "cell_type": "code",
   "execution_count": 10,
   "metadata": {
    "collapsed": true
   },
   "outputs": [],
   "source": [
    "diagram_context = diagram.CreateDefaultContext()\n",
    "simulator = Simulator(diagram, diagram_context)\n",
    "simulator.set_publish_every_time_step(False)\n",
    "simulation_time = 10\n"
   ]
  },
  {
   "cell_type": "code",
   "execution_count": 11,
   "metadata": {
    "collapsed": true
   },
   "outputs": [],
   "source": [
    "\n",
    "# simulator.set_target_realtime_rate(1)\n",
    "# #simulator.Initialize()\n",
    "# simulator.get_mutable_integrator().set_target_accuracy(1e-3)\n",
    "\n",
    "# "
   ]
  },
  {
   "cell_type": "code",
   "execution_count": 12,
   "metadata": {},
   "outputs": [
    {
     "name": "stdout",
     "output_type": "stream",
     "text": [
      "(0.0, 18, array([ 0.,  0.,  0.,  0.,  0.,  0.,  0.,  0.,  0.,  0.,  0.,  0.,  0.,\n",
      "        0.,  0.,  0.,  0.,  0.]), array([ 0.,  0.,  0.,  0.,  0.,  0.,  0.,  0.,  0.,  0.,  0.,  0.,  0.,\n",
      "        0.,  0.,  0.,  0.,  0.]))\n"
     ]
    },
    {
     "ename": "AssertionError",
     "evalue": "",
     "output_type": "error",
     "traceback": [
      "\u001b[0;31m\u001b[0m",
      "\u001b[0;31mAssertionError\u001b[0mTraceback (most recent call last)",
      "\u001b[0;32m<ipython-input-12-310518709ef7>\u001b[0m in \u001b[0;36m<module>\u001b[0;34m()\u001b[0m\n\u001b[1;32m      1\u001b[0m \u001b[0mlcm\u001b[0m\u001b[0;34m.\u001b[0m\u001b[0mStartReceiveThread\u001b[0m\u001b[0;34m(\u001b[0m\u001b[0;34m)\u001b[0m\u001b[0;34m\u001b[0m\u001b[0m\n\u001b[0;32m----> 2\u001b[0;31m \u001b[0msimulator\u001b[0m\u001b[0;34m.\u001b[0m\u001b[0mStepTo\u001b[0m\u001b[0;34m(\u001b[0m\u001b[0msimulation_time\u001b[0m\u001b[0;34m)\u001b[0m\u001b[0;34m\u001b[0m\u001b[0m\n\u001b[0m\u001b[1;32m      3\u001b[0m \u001b[0mlcm\u001b[0m\u001b[0;34m.\u001b[0m\u001b[0mStopReceiveThread\u001b[0m\u001b[0;34m(\u001b[0m\u001b[0;34m)\u001b[0m\u001b[0;34m\u001b[0m\u001b[0m\n",
      "\u001b[0;32m/home/drl/PycharmProjects/underacuatedRoboics/drake/drake-build/install/lib/python2.7/site-packages/pydrake/systems/lcm.so\u001b[0m in \u001b[0;36mSerialize\u001b[0;34m(self, value)\u001b[0m\n",
      "\u001b[0;31mAssertionError\u001b[0m: "
     ]
    }
   ],
   "source": [
    "lcm.StartReceiveThread()\n",
    "simulator.StepTo(simulation_time)\n",
    "lcm.StopReceiveThread()"
   ]
  },
  {
   "cell_type": "code",
   "execution_count": null,
   "metadata": {
    "collapsed": true
   },
   "outputs": [],
   "source": []
  }
 ],
 "metadata": {
  "kernelspec": {
   "display_name": "Py27sys",
   "language": "python",
   "name": "python2"
  },
  "language_info": {
   "codemirror_mode": {
    "name": "ipython",
    "version": 2
   },
   "file_extension": ".py",
   "mimetype": "text/x-python",
   "name": "python",
   "nbconvert_exporter": "python",
   "pygments_lexer": "ipython2",
   "version": "2.7.12"
  }
 },
 "nbformat": 4,
 "nbformat_minor": 2
}
