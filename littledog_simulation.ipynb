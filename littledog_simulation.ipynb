{
 "cells": [
  {
   "cell_type": "code",
   "execution_count": 68,
   "metadata": {
    "collapsed": true
   },
   "outputs": [],
   "source": [
    "from pydrake.common import FindResourceOrThrow\n",
    "from pydrake.geometry import (ConnectDrakeVisualizer, SceneGraph)\n",
    "from pydrake.lcm import DrakeLcm\n",
    "from pydrake.multibody.rigid_body_tree import (RigidBodyTree, AddModelInstancesFromSdfFile,\n",
    "                                               FloatingBaseType,AddModelInstanceFromUrdfFile,AddFlatTerrainToWorld, RigidBodyFrame,AddModelInstanceFromUrdfStringSearchingInRosPackages)\n",
    "from pydrake.multibody.multibody_tree import UniformGravityFieldElement, MultibodyTree,BodyIndex\n",
    "from pydrake.multibody.multibody_tree.multibody_plant import MultibodyPlant\n",
    "from pydrake.multibody.multibody_tree.parsing import AddModelFromSdfFile \n",
    "from pydrake.systems.framework import DiagramBuilder\n",
    "from pydrake.systems.analysis import Simulator\n",
    "from pydrake.common import (set_assertion_failure_to_throw_exception)\n",
    "from pydrake.systems.controllers import (RbtInverseDynamicsController)\n",
    "from pydrake.systems.primitives import (ConstantVectorSource, SignalLogger, TrajectorySource)\n",
    "from pydrake.systems.meshcat_visualizer import MeshcatVisualizer\n",
    "from pydrake.multibody.parsers import PackageMap\n",
    "from pydrake.systems.framework import LeafSystem, PortDataType,BasicVector\n",
    "\n",
    "from pydrake.multibody.rigid_body_plant import DrakeVisualizer,RigidBodyPlant\n",
    "import numpy as np\n",
    "import matplotlib.pyplot as plt\n",
    " \n",
    "import os\n",
    "import pydrake\n",
    "\n",
    "from pydrake.systems.all import LcmSubscriberSystem, LcmPublisherSystem,AbstractValue\n",
    "from pydrake.multibody.rigid_body_plant import ContactResults \n",
    "from pydrake.all import PySerializer\n",
    "#from pydrake.all import  KinematicsResults\n",
    "\n",
    "from systems.robot_coomand_to_rigidbody_converter import RobotCommandToRigidBodyPlantConverter\n",
    "from systems.robot_state_encoder import RobotStateEncoder"
   ]
  },
  {
   "cell_type": "code",
   "execution_count": 69,
   "metadata": {
    "collapsed": true
   },
   "outputs": [],
   "source": [
    "from lcmt import *\n",
    "model_path = os.path.join(os.getcwd(), 'Model/LittleDog.urdf')\n",
    "\n",
    "dt = 0\n",
    "\n",
    "lcm = DrakeLcm()\n",
    "builder = DiagramBuilder()\n",
    "\n"
   ]
  },
  {
   "cell_type": "code",
   "execution_count": 70,
   "metadata": {},
   "outputs": [
    {
     "data": {
      "text/plain": [
       "{u'LittleDog': 0}"
      ]
     },
     "execution_count": 70,
     "metadata": {},
     "output_type": "execute_result"
    }
   ],
   "source": [
    "# Build up your Robot World\n",
    "rb_tree = RigidBodyTree()\n",
    "world_frame = RigidBodyFrame(\"world_frame\", rb_tree.world(), [0, 0, 0], [0, 0, 0])\n",
    "AddFlatTerrainToWorld(rb_tree, 1000, 10)\n",
    "robot_frame = RigidBodyFrame(\"robot_frame\", rb_tree.world(), [0, 0, 0.5], [0, 0, 0])\n",
    "\n",
    "# insert a robot from urdf files\n",
    "pmap = PackageMap()\n",
    "pmap.PopulateFromFolder(os.path.dirname(model_path))\n",
    "AddModelInstanceFromUrdfStringSearchingInRosPackages(\n",
    "        open(model_path, 'r').read(),\n",
    "        pmap,\n",
    "        os.path.dirname(model_path),\n",
    "        FloatingBaseType.kRollPitchYaw,\n",
    "        robot_frame,\n",
    "        rb_tree)"
   ]
  },
  {
   "cell_type": "code",
   "execution_count": 71,
   "metadata": {},
   "outputs": [
    {
     "data": {
      "text/plain": [
       "18"
      ]
     },
     "execution_count": 71,
     "metadata": {},
     "output_type": "execute_result"
    }
   ],
   "source": [
    "rb_tree.get_num_positions()"
   ]
  },
  {
   "cell_type": "code",
   "execution_count": 72,
   "metadata": {},
   "outputs": [],
   "source": [
    "# RigidBodyPlant \n",
    "plant = builder.AddSystem(RigidBodyPlant(rb_tree, dt))\n",
    "plant.set_name('plant')\n",
    "\n",
    "# Robot command subscriber\n",
    "\n",
    "#robot_command_subscriber = builder.AddSystem(LcmSubscriberSystem('ROBOT_COMMAND', PySerializer(littledog_command_t), lcm))\n",
    "robot_command_subscriber = builder.AddSystem(LcmSubscriberSystem.Make('ROBOT_COMMAND', littledog_command_t, lcm))\n",
    "robot_command_subscriber.set_name('robot_command_subscriber')\n",
    "\n",
    "# Robot command to Plant Converter\n",
    "robot_command_to_rigidbodyplant_converter = builder.AddSystem(RobotCommandToRigidBodyPlantConverter(rb_tree.actuators)) # input argu: rigidbody actuators\n",
    "robot_command_to_rigidbodyplant_converter.set_name('robot_command_to_rigidbodyplant_converter')\n",
    "\n",
    "# Visualizer\n",
    "visualizer_publisher = builder.AddSystem(DrakeVisualizer(rb_tree, lcm ))\n",
    "visualizer_publisher.set_name('visualizer_publisher')\n",
    "visualizer_publisher.set_publish_period(1e-3);\n",
    "\n",
    "# Robot State Encoder\n",
    "robot_state_encoder = builder.AddSystem(RobotStateEncoder(rb_tree)) #force_sensor_info\n",
    "robot_state_encoder.set_name('robot_state_encoder')\n",
    "\n",
    "# Robot State Publisher\n",
    "#robot_state_publisher = builder.AddSystem(LcmPublisherSystem('EST_ROBOT_STATE', PySerializer(robot_state_t), lcm))\n",
    "robot_state_publisher = builder.AddSystem(LcmPublisherSystem.Make('EST_ROBOT_STATE', robot_state_t, lcm))\n",
    "robot_state_publisher.set_name('robot_state_publisher')\n",
    "robot_state_publisher.set_publish_period(1e-3);\n",
    "\n",
    " # Connect everything\n",
    "builder.Connect(robot_command_subscriber.get_output_port(0),\n",
    "                robot_command_to_rigidbodyplant_converter.robot_command_input_port())\n",
    "builder.Connect(robot_command_to_rigidbodyplant_converter.desired_effort_output_port(),\n",
    "                plant.get_input_port(0))\n",
    "builder.Connect(plant.state_output_port(),\n",
    "                visualizer_publisher.get_input_port(0))\n",
    "# builder.Connect(plant.get_output_port(0),\n",
    "#                 visualizer_publisher.get_input_port(0))\n",
    "\n",
    "builder.Connect(plant.state_output_port(),\n",
    "                robot_state_encoder.joint_state_results_input_port())\n",
    "builder.Connect(robot_state_encoder.lcm_message_output_port(),\n",
    "                robot_state_publisher.get_input_port(0))\n"
   ]
  },
  {
   "cell_type": "code",
   "execution_count": 63,
   "metadata": {
    "collapsed": true
   },
   "outputs": [],
   "source": [
    "\n"
   ]
  },
  {
   "cell_type": "markdown",
   "metadata": {},
   "source": [
    "position = np.array(msg.position)\n",
    "        velocity = np.array(msg.velocity)\n",
    "        effort = np.array(msg.effort)\n",
    "        k_q_p = np.array(msg.k_q_p)\n",
    "        k_q_i = np.array(msg.k_q_i)\n",
    "        k_q_d = np.array(msg.k_q_d)\n",
    "        k_qd_d = np.array(msg.k_qd_d)\n",
    "        k_f_p = np.array(msg.k_f_p)\n",
    "        ff_qd = np.array(msg.ff_qd)\n",
    "        ff_qd_d = np.array(msg.ff_qd_d)\n",
    "        ff_const = np.array(msg.ff_const)\n",
    "        \n",
    "        output_command = k_q_p *(q_d -q) + k_q_i * (q_d - q) +  \n",
    "                         k_qd_p *(qd_d -qd) + k_f_p * (f_d - f) \n",
    "                         + ff_qd * qd + ff_f_d * fd +ff_const"
   ]
  },
  {
   "cell_type": "code",
   "execution_count": 73,
   "metadata": {
    "collapsed": true
   },
   "outputs": [],
   "source": [
    "diagram = builder.Build()\n",
    "diagram_context = diagram.CreateDefaultContext()\n",
    "simulator = Simulator(diagram, diagram_context)\n",
    "simulator.set_publish_every_time_step(False)\n",
    "simulation_time = 10\n"
   ]
  },
  {
   "cell_type": "code",
   "execution_count": 65,
   "metadata": {
    "collapsed": true
   },
   "outputs": [],
   "source": [
    "\n",
    "# simulator.set_target_realtime_rate(1)\n",
    "# #simulator.Initialize()\n",
    "# simulator.get_mutable_integrator().set_target_accuracy(1e-3)\n",
    "\n",
    "# "
   ]
  },
  {
   "cell_type": "code",
   "execution_count": 66,
   "metadata": {},
   "outputs": [],
   "source": [
    "lcm.StartReceiveThread()\n",
    "simulator.StepTo(simulation_time)\n",
    "lcm.StopReceiveThread()"
   ]
  }
 ],
 "metadata": {
  "kernelspec": {
   "display_name": "Py27sys",
   "language": "python",
   "name": "python2"
  },
  "language_info": {
   "codemirror_mode": {
    "name": "ipython",
    "version": 2
   },
   "file_extension": ".py",
   "mimetype": "text/x-python",
   "name": "python",
   "nbconvert_exporter": "python",
   "pygments_lexer": "ipython2",
   "version": "2.7.12"
  }
 },
 "nbformat": 4,
 "nbformat_minor": 2
}
